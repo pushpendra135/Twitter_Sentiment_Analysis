{
 "cells": [
  {
   "cell_type": "code",
   "execution_count": null,
   "metadata": {
    "scrolled": false
   },
   "outputs": [],
   "source": [
    "import sys,tweepy,csv,re\n",
    "from textblob import TextBlob\n",
    "import matplotlib.pyplot as plt\n",
    "from termcolor import colored\n",
    "import colorama\n",
    "\n",
    "\n",
    "class SentimentAnalysis:\n",
    "\n",
    "    def __init__(self):\n",
    "        self.tweets = []\n",
    "        self.tweetText = []\n",
    "\n",
    "    def DownloadData(self):\n",
    "        consumerKey = 'IZNo2YjMNJOo52ftEF6TLD5CJ'\n",
    "        consumerSecret = 'etYuE7VpDhjtTLfvpuH05J2zYHSefQJXIVWDdHhNnlE2P4MCOt'\n",
    "        accessToken = '1119676853965316097-yzK3RU0WIOnCWKIGZXJhT4ukiIN1Bw'\n",
    "        accessTokenSecret = 'SNcC7BSRGIZBObVvHcpeYE2bLk6zm5PsT5oG190M1iVfW'\n",
    "        auth = tweepy.OAuthHandler(consumerKey, consumerSecret)\n",
    "        auth.set_access_token(accessToken, accessTokenSecret)\n",
    "        api = tweepy.API(auth,wait_on_rate_limit=True)\n",
    "\n",
    "        searchTerm = input(\"Enter Keyword/Tag to search about: \")\n",
    "        NoOfTerms = int(input(\"Enter how many tweets to search: \"))\n",
    "\n",
    "        self.tweets = tweepy.Cursor(api.search, q=searchTerm, lang = \"en\").items(NoOfTerms)\n",
    "\n",
    "        polarity = 0\n",
    "        positive = 0\n",
    "        wpositive = 0\n",
    "        spositive = 0\n",
    "        negative = 0\n",
    "        wnegative = 0\n",
    "        snegative = 0\n",
    "        neutral = 0\n",
    "\n",
    "        colorama.init()\n",
    "        print('\\n'*3)\n",
    "        for tweet in self.tweets:\n",
    "            print('============================Detail======================================')\n",
    "            print(f'Name  =  {tweet.user.name}')\n",
    "            print(f'Screen Name  =  {tweet.user.screen_name}')\n",
    "            print(colored(f'tweet  =  {tweet.text}' ,color=\"magenta\", on_color=\"on_cyan\", attrs=[\"blink\"]))\n",
    "            print(f'Created At  =  {tweet.created_at}')\n",
    "            print(f'Location  =  {tweet.user.location}')\n",
    "            \n",
    "\n",
    "            self.tweetText.append(self.cleanTweet(tweet.text).encode('utf-8'))\n",
    "            analysis = TextBlob(tweet.text)\n",
    "            polarity += analysis.sentiment.polarity  \n",
    "\n",
    "            if (analysis.sentiment.polarity == 0): \n",
    "                neutral += 1\n",
    "                print(colored('Sentiment  =  Neutral', color=\"magenta\", on_color=\"on_cyan\", attrs=[\"blink\"]))\n",
    "            elif (analysis.sentiment.polarity > 0 and analysis.sentiment.polarity <= 0.3):\n",
    "                wpositive += 1\n",
    "                print(colored('Sentiment  =  Weakly Positive', color=\"magenta\", on_color=\"on_cyan\", attrs=[\"blink\"]))\n",
    "            elif (analysis.sentiment.polarity > 0.3 and analysis.sentiment.polarity <= 0.6):\n",
    "                positive += 1\n",
    "                print(colored('Sentiment  =  Positive', color=\"magenta\", on_color=\"on_cyan\", attrs=[\"blink\"]))\n",
    "            elif (analysis.sentiment.polarity > 0.6 and analysis.sentiment.polarity <= 1):\n",
    "                spositive += 1\n",
    "                print(colored('Sentiment  =  Strong Positive', color=\"magenta\", on_color=\"on_cyan\", attrs=[\"blink\"]))\n",
    "            elif (analysis.sentiment.polarity > -0.3 and analysis.sentiment.polarity <= 0):\n",
    "                wnegative += 1\n",
    "                print(colored('Sentiment  =  Weakly Negative', color=\"magenta\", on_color=\"on_cyan\", attrs=[\"blink\"]))\n",
    "            elif (analysis.sentiment.polarity > -0.6 and analysis.sentiment.polarity <= -0.3):\n",
    "                negative += 1\n",
    "                print(colored('Sentiment  =  Negative', color=\"magenta\", on_color=\"on_cyan\", attrs=[\"blink\"]))\n",
    "            elif (analysis.sentiment.polarity > -1 and analysis.sentiment.polarity <= -0.6):\n",
    "                snegative += 1\n",
    "                print(colored('Sentiment  =  Strongly Negative', color=\"magenta\", on_color=\"on_cyan\", attrs=[\"blink\"]))\n",
    "            print('\\n'*2)    \n",
    "\n",
    "\n",
    "        positive = self.percentage(positive, NoOfTerms)\n",
    "        wpositive = self.percentage(wpositive, NoOfTerms)\n",
    "        spositive = self.percentage(spositive, NoOfTerms)\n",
    "        negative = self.percentage(negative, NoOfTerms)\n",
    "        wnegative = self.percentage(wnegative, NoOfTerms)\n",
    "        snegative = self.percentage(snegative, NoOfTerms)\n",
    "        neutral = self.percentage(neutral, NoOfTerms)\n",
    "\n",
    "        polarity = polarity / NoOfTerms\n",
    "\n",
    "        print(\"How people are reacting on \" + searchTerm + \" by analyzing \" + str(NoOfTerms) + \" tweets.\")\n",
    "        print()\n",
    "        print(\"General Report: \")\n",
    "\n",
    "        if (polarity == 0):\n",
    "            print(\"Neutral\")\n",
    "        elif (polarity > 0 and polarity <= 0.3):\n",
    "            print(\"Weakly Positive\")\n",
    "        elif (polarity > 0.3 and polarity <= 0.6):\n",
    "            print(\"Positive\")\n",
    "        elif (polarity > 0.6 and polarity <= 1):\n",
    "            print(\"Strongly Positive\")\n",
    "        elif (polarity > -0.3 and polarity <= 0):\n",
    "            print(\"Weakly Negative\")\n",
    "        elif (polarity > -0.6 and polarity <= -0.3):\n",
    "            print(\"Negative\")\n",
    "        elif (polarity > -1 and polarity <= -0.6):\n",
    "            print(\"Strongly Negative\")\n",
    "\n",
    "        print()\n",
    "        print(\"Detailed Report: \")\n",
    "        print(str(positive) + \"% people thought it was positive\")\n",
    "        print(str(wpositive) + \"% people thought it was weakly positive\")\n",
    "        print(str(spositive) + \"% people thought it was strongly positive\")\n",
    "        print(str(negative) + \"% people thought it was negative\")\n",
    "        print(str(wnegative) + \"% people thought it was weakly negative\")\n",
    "        print(str(snegative) + \"% people thought it was strongly negative\")\n",
    "        print(str(neutral) + \"% people thought it was neutral\")\n",
    "\n",
    "        self.plotPieChart(positive, wpositive, spositive, negative, wnegative, snegative, neutral, searchTerm, NoOfTerms)\n",
    "\n",
    "\n",
    "    def cleanTweet(self, tweet):\n",
    "        return ' '.join(re.sub(\"(@[A-Za-z0-9]+)|([^0-9A-Za-z \\t]) | (\\w +:\\ / \\ / \\S +)\", \" \", tweet).split())\n",
    "\n",
    "    def percentage(self, part, whole):\n",
    "        temp = 100 * float(part) / float(whole)\n",
    "        return format(temp, '.2f')\n",
    "\n",
    "    def plotPieChart(self, positive, wpositive, spositive, negative, wnegative, snegative, neutral, searchTerm, noOfSearchTerms):\n",
    "        labels = ['Positive [' + str(positive) + '%]', 'Weakly Positive [' + str(wpositive) + '%]','Strongly Positive [' + str(spositive) + '%]', 'Neutral [' + str(neutral) + '%]',\n",
    "                  'Negative [' + str(negative) + '%]', 'Weakly Negative [' + str(wnegative) + '%]', 'Strongly Negative [' + str(snegative) + '%]']\n",
    "        sizes = [positive, wpositive, spositive, neutral, negative, wnegative, snegative]\n",
    "        colors = ['yellowgreen','lightgreen','darkgreen', 'gold', 'red','lightsalmon','darkred']\n",
    "        patches, texts = plt.pie(sizes, colors=colors, startangle=90)\n",
    "        plt.legend(patches, labels, loc=\"center\")\n",
    "        plt.title('How people are reacting on ' + searchTerm + ' by analyzing ' + str(noOfSearchTerms) + ' Tweets.')\n",
    "        plt.axis('equal')\n",
    "        plt.tight_layout()\n",
    "        plt.show()\n",
    "\n",
    "\n",
    "\n",
    "if __name__== \"__main__\":\n",
    "    sa = SentimentAnalysis()\n",
    "    sa.DownloadData()"
   ]
  },
  {
   "cell_type": "code",
   "execution_count": null,
   "metadata": {},
   "outputs": [],
   "source": []
  },
  {
   "cell_type": "code",
   "execution_count": null,
   "metadata": {
    "collapsed": true
   },
   "outputs": [],
   "source": []
  },
  {
   "cell_type": "code",
   "execution_count": null,
   "metadata": {
    "collapsed": true
   },
   "outputs": [],
   "source": []
  },
  {
   "cell_type": "code",
   "execution_count": null,
   "metadata": {
    "collapsed": true
   },
   "outputs": [],
   "source": []
  },
  {
   "cell_type": "code",
   "execution_count": null,
   "metadata": {
    "collapsed": true
   },
   "outputs": [],
   "source": []
  },
  {
   "cell_type": "code",
   "execution_count": null,
   "metadata": {
    "collapsed": true
   },
   "outputs": [],
   "source": []
  },
  {
   "cell_type": "code",
   "execution_count": null,
   "metadata": {
    "collapsed": true
   },
   "outputs": [],
   "source": []
  },
  {
   "cell_type": "code",
   "execution_count": null,
   "metadata": {
    "collapsed": true
   },
   "outputs": [],
   "source": []
  },
  {
   "cell_type": "code",
   "execution_count": null,
   "metadata": {
    "collapsed": true
   },
   "outputs": [],
   "source": []
  }
 ],
 "metadata": {
  "kernelspec": {
   "display_name": "Python 3",
   "language": "python",
   "name": "python3"
  },
  "language_info": {
   "codemirror_mode": {
    "name": "ipython",
    "version": 3
   },
   "file_extension": ".py",
   "mimetype": "text/x-python",
   "name": "python",
   "nbconvert_exporter": "python",
   "pygments_lexer": "ipython3",
   "version": "3.7.3"
  }
 },
 "nbformat": 4,
 "nbformat_minor": 2
}
